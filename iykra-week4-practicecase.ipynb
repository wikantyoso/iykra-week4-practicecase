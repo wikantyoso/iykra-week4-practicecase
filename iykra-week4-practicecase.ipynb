{
 "cells": [
  {
   "cell_type": "markdown",
   "metadata": {},
   "source": [
    "# Machine Learning Module Practice Case\n",
    "\n",
    "On this week's module practice case, we are require to solve some machine learning use cases. Here are the cases:\n",
    "\n",
    "Suppose that you are working in a consulting company. You meet a client who is interested in implementing a data science project for the first time to solve their problem. You are provided with some problems to be solved, just to examine your capabilities: \n",
    "\n",
    "\n",
    "Here are the options of problems for you to solve:\n",
    "\n",
    "1. Home Credit Default Risk: https://www.kaggle.com/c/home-credit-default-risk/data<br>\n",
    "2. House price prediction: https://www.kaggle.com/c/house-prices-advanced-regression-techniques/data<br>\n",
    "3. Supermarket: https://www.kaggle.com/mahmoudeletrby/supermarket<br>\n",
    "4. Customer Segmentation and Market Basket Analysis: https://www.kaggle.com/mgmarques/customer-segmentation-and-market-basket-analysis/data<br>\n",
    "5. Product classification: https://www.kaggle.com/lakritidis/product-classification-and-categorization<br>\n",
    "\n",
    "Please select one of the cases above and make your machine learning model. Do not forget to implement CRISP-DM steps! Please be creative and hopefully, you can implement the best coding practices in your code.\n",
    "\n",
    "For my case, I chose the House Price Prediction with Linear Regression."
   ]
  },
  {
   "cell_type": "code",
   "execution_count": 2,
   "metadata": {},
   "outputs": [],
   "source": [
    "import pandas as pd\n",
    "import numpy as np\n",
    "\n",
    "import matplotlib.pyplot as plt\n",
    "import seaborn as sns\n",
    "\n",
    "from sklearn.linear_model import LinearRegression\n",
    "from sklearn.preprocessing import LabelEncoder\n",
    "from sklearn.model_selection import train_test_split\n",
    "from sklearn.metrics import explained_variance_score\n",
    "\n",
    "from scipy import stats\n",
    "\n",
    "import category_encoders as ce\n",
    "import statsmodels.api as sm"
   ]
  },
  {
   "cell_type": "code",
   "execution_count": 3,
   "metadata": {},
   "outputs": [],
   "source": [
    "data = pd.read_csv('train.csv')"
   ]
  },
  {
   "cell_type": "code",
   "execution_count": 4,
   "metadata": {},
   "outputs": [
    {
     "data": {
      "text/plain": [
       "(1460, 81)"
      ]
     },
     "execution_count": 4,
     "metadata": {},
     "output_type": "execute_result"
    }
   ],
   "source": [
    "data.shape"
   ]
  },
  {
   "cell_type": "code",
   "execution_count": 5,
   "metadata": {},
   "outputs": [
    {
     "data": {
      "text/html": [
       "<div>\n",
       "<style scoped>\n",
       "    .dataframe tbody tr th:only-of-type {\n",
       "        vertical-align: middle;\n",
       "    }\n",
       "\n",
       "    .dataframe tbody tr th {\n",
       "        vertical-align: top;\n",
       "    }\n",
       "\n",
       "    .dataframe thead th {\n",
       "        text-align: right;\n",
       "    }\n",
       "</style>\n",
       "<table border=\"1\" class=\"dataframe\">\n",
       "  <thead>\n",
       "    <tr style=\"text-align: right;\">\n",
       "      <th></th>\n",
       "      <th>Id</th>\n",
       "      <th>MSSubClass</th>\n",
       "      <th>MSZoning</th>\n",
       "      <th>LotFrontage</th>\n",
       "      <th>LotArea</th>\n",
       "      <th>Street</th>\n",
       "      <th>Alley</th>\n",
       "      <th>LotShape</th>\n",
       "      <th>LandContour</th>\n",
       "      <th>Utilities</th>\n",
       "      <th>...</th>\n",
       "      <th>PoolArea</th>\n",
       "      <th>PoolQC</th>\n",
       "      <th>Fence</th>\n",
       "      <th>MiscFeature</th>\n",
       "      <th>MiscVal</th>\n",
       "      <th>MoSold</th>\n",
       "      <th>YrSold</th>\n",
       "      <th>SaleType</th>\n",
       "      <th>SaleCondition</th>\n",
       "      <th>SalePrice</th>\n",
       "    </tr>\n",
       "  </thead>\n",
       "  <tbody>\n",
       "    <tr>\n",
       "      <th>0</th>\n",
       "      <td>1</td>\n",
       "      <td>60</td>\n",
       "      <td>RL</td>\n",
       "      <td>65.0</td>\n",
       "      <td>8450</td>\n",
       "      <td>Pave</td>\n",
       "      <td>NaN</td>\n",
       "      <td>Reg</td>\n",
       "      <td>Lvl</td>\n",
       "      <td>AllPub</td>\n",
       "      <td>...</td>\n",
       "      <td>0</td>\n",
       "      <td>NaN</td>\n",
       "      <td>NaN</td>\n",
       "      <td>NaN</td>\n",
       "      <td>0</td>\n",
       "      <td>2</td>\n",
       "      <td>2008</td>\n",
       "      <td>WD</td>\n",
       "      <td>Normal</td>\n",
       "      <td>208500</td>\n",
       "    </tr>\n",
       "    <tr>\n",
       "      <th>1</th>\n",
       "      <td>2</td>\n",
       "      <td>20</td>\n",
       "      <td>RL</td>\n",
       "      <td>80.0</td>\n",
       "      <td>9600</td>\n",
       "      <td>Pave</td>\n",
       "      <td>NaN</td>\n",
       "      <td>Reg</td>\n",
       "      <td>Lvl</td>\n",
       "      <td>AllPub</td>\n",
       "      <td>...</td>\n",
       "      <td>0</td>\n",
       "      <td>NaN</td>\n",
       "      <td>NaN</td>\n",
       "      <td>NaN</td>\n",
       "      <td>0</td>\n",
       "      <td>5</td>\n",
       "      <td>2007</td>\n",
       "      <td>WD</td>\n",
       "      <td>Normal</td>\n",
       "      <td>181500</td>\n",
       "    </tr>\n",
       "    <tr>\n",
       "      <th>2</th>\n",
       "      <td>3</td>\n",
       "      <td>60</td>\n",
       "      <td>RL</td>\n",
       "      <td>68.0</td>\n",
       "      <td>11250</td>\n",
       "      <td>Pave</td>\n",
       "      <td>NaN</td>\n",
       "      <td>IR1</td>\n",
       "      <td>Lvl</td>\n",
       "      <td>AllPub</td>\n",
       "      <td>...</td>\n",
       "      <td>0</td>\n",
       "      <td>NaN</td>\n",
       "      <td>NaN</td>\n",
       "      <td>NaN</td>\n",
       "      <td>0</td>\n",
       "      <td>9</td>\n",
       "      <td>2008</td>\n",
       "      <td>WD</td>\n",
       "      <td>Normal</td>\n",
       "      <td>223500</td>\n",
       "    </tr>\n",
       "    <tr>\n",
       "      <th>3</th>\n",
       "      <td>4</td>\n",
       "      <td>70</td>\n",
       "      <td>RL</td>\n",
       "      <td>60.0</td>\n",
       "      <td>9550</td>\n",
       "      <td>Pave</td>\n",
       "      <td>NaN</td>\n",
       "      <td>IR1</td>\n",
       "      <td>Lvl</td>\n",
       "      <td>AllPub</td>\n",
       "      <td>...</td>\n",
       "      <td>0</td>\n",
       "      <td>NaN</td>\n",
       "      <td>NaN</td>\n",
       "      <td>NaN</td>\n",
       "      <td>0</td>\n",
       "      <td>2</td>\n",
       "      <td>2006</td>\n",
       "      <td>WD</td>\n",
       "      <td>Abnorml</td>\n",
       "      <td>140000</td>\n",
       "    </tr>\n",
       "    <tr>\n",
       "      <th>4</th>\n",
       "      <td>5</td>\n",
       "      <td>60</td>\n",
       "      <td>RL</td>\n",
       "      <td>84.0</td>\n",
       "      <td>14260</td>\n",
       "      <td>Pave</td>\n",
       "      <td>NaN</td>\n",
       "      <td>IR1</td>\n",
       "      <td>Lvl</td>\n",
       "      <td>AllPub</td>\n",
       "      <td>...</td>\n",
       "      <td>0</td>\n",
       "      <td>NaN</td>\n",
       "      <td>NaN</td>\n",
       "      <td>NaN</td>\n",
       "      <td>0</td>\n",
       "      <td>12</td>\n",
       "      <td>2008</td>\n",
       "      <td>WD</td>\n",
       "      <td>Normal</td>\n",
       "      <td>250000</td>\n",
       "    </tr>\n",
       "  </tbody>\n",
       "</table>\n",
       "<p>5 rows × 81 columns</p>\n",
       "</div>"
      ],
      "text/plain": [
       "   Id  MSSubClass MSZoning  LotFrontage  LotArea Street Alley LotShape  \\\n",
       "0   1          60       RL         65.0     8450   Pave   NaN      Reg   \n",
       "1   2          20       RL         80.0     9600   Pave   NaN      Reg   \n",
       "2   3          60       RL         68.0    11250   Pave   NaN      IR1   \n",
       "3   4          70       RL         60.0     9550   Pave   NaN      IR1   \n",
       "4   5          60       RL         84.0    14260   Pave   NaN      IR1   \n",
       "\n",
       "  LandContour Utilities  ... PoolArea PoolQC Fence MiscFeature MiscVal MoSold  \\\n",
       "0         Lvl    AllPub  ...        0    NaN   NaN         NaN       0      2   \n",
       "1         Lvl    AllPub  ...        0    NaN   NaN         NaN       0      5   \n",
       "2         Lvl    AllPub  ...        0    NaN   NaN         NaN       0      9   \n",
       "3         Lvl    AllPub  ...        0    NaN   NaN         NaN       0      2   \n",
       "4         Lvl    AllPub  ...        0    NaN   NaN         NaN       0     12   \n",
       "\n",
       "  YrSold  SaleType  SaleCondition  SalePrice  \n",
       "0   2008        WD         Normal     208500  \n",
       "1   2007        WD         Normal     181500  \n",
       "2   2008        WD         Normal     223500  \n",
       "3   2006        WD        Abnorml     140000  \n",
       "4   2008        WD         Normal     250000  \n",
       "\n",
       "[5 rows x 81 columns]"
      ]
     },
     "execution_count": 5,
     "metadata": {},
     "output_type": "execute_result"
    }
   ],
   "source": [
    "data.head()"
   ]
  },
  {
   "cell_type": "code",
   "execution_count": 6,
   "metadata": {
    "scrolled": true
   },
   "outputs": [
    {
     "name": "stdout",
     "output_type": "stream",
     "text": [
      "<class 'pandas.core.frame.DataFrame'>\n",
      "RangeIndex: 1460 entries, 0 to 1459\n",
      "Data columns (total 81 columns):\n",
      " #   Column         Non-Null Count  Dtype  \n",
      "---  ------         --------------  -----  \n",
      " 0   Id             1460 non-null   int64  \n",
      " 1   MSSubClass     1460 non-null   int64  \n",
      " 2   MSZoning       1460 non-null   object \n",
      " 3   LotFrontage    1201 non-null   float64\n",
      " 4   LotArea        1460 non-null   int64  \n",
      " 5   Street         1460 non-null   object \n",
      " 6   Alley          91 non-null     object \n",
      " 7   LotShape       1460 non-null   object \n",
      " 8   LandContour    1460 non-null   object \n",
      " 9   Utilities      1460 non-null   object \n",
      " 10  LotConfig      1460 non-null   object \n",
      " 11  LandSlope      1460 non-null   object \n",
      " 12  Neighborhood   1460 non-null   object \n",
      " 13  Condition1     1460 non-null   object \n",
      " 14  Condition2     1460 non-null   object \n",
      " 15  BldgType       1460 non-null   object \n",
      " 16  HouseStyle     1460 non-null   object \n",
      " 17  OverallQual    1460 non-null   int64  \n",
      " 18  OverallCond    1460 non-null   int64  \n",
      " 19  YearBuilt      1460 non-null   int64  \n",
      " 20  YearRemodAdd   1460 non-null   int64  \n",
      " 21  RoofStyle      1460 non-null   object \n",
      " 22  RoofMatl       1460 non-null   object \n",
      " 23  Exterior1st    1460 non-null   object \n",
      " 24  Exterior2nd    1460 non-null   object \n",
      " 25  MasVnrType     1452 non-null   object \n",
      " 26  MasVnrArea     1452 non-null   float64\n",
      " 27  ExterQual      1460 non-null   object \n",
      " 28  ExterCond      1460 non-null   object \n",
      " 29  Foundation     1460 non-null   object \n",
      " 30  BsmtQual       1423 non-null   object \n",
      " 31  BsmtCond       1423 non-null   object \n",
      " 32  BsmtExposure   1422 non-null   object \n",
      " 33  BsmtFinType1   1423 non-null   object \n",
      " 34  BsmtFinSF1     1460 non-null   int64  \n",
      " 35  BsmtFinType2   1422 non-null   object \n",
      " 36  BsmtFinSF2     1460 non-null   int64  \n",
      " 37  BsmtUnfSF      1460 non-null   int64  \n",
      " 38  TotalBsmtSF    1460 non-null   int64  \n",
      " 39  Heating        1460 non-null   object \n",
      " 40  HeatingQC      1460 non-null   object \n",
      " 41  CentralAir     1460 non-null   object \n",
      " 42  Electrical     1459 non-null   object \n",
      " 43  1stFlrSF       1460 non-null   int64  \n",
      " 44  2ndFlrSF       1460 non-null   int64  \n",
      " 45  LowQualFinSF   1460 non-null   int64  \n",
      " 46  GrLivArea      1460 non-null   int64  \n",
      " 47  BsmtFullBath   1460 non-null   int64  \n",
      " 48  BsmtHalfBath   1460 non-null   int64  \n",
      " 49  FullBath       1460 non-null   int64  \n",
      " 50  HalfBath       1460 non-null   int64  \n",
      " 51  BedroomAbvGr   1460 non-null   int64  \n",
      " 52  KitchenAbvGr   1460 non-null   int64  \n",
      " 53  KitchenQual    1460 non-null   object \n",
      " 54  TotRmsAbvGrd   1460 non-null   int64  \n",
      " 55  Functional     1460 non-null   object \n",
      " 56  Fireplaces     1460 non-null   int64  \n",
      " 57  FireplaceQu    770 non-null    object \n",
      " 58  GarageType     1379 non-null   object \n",
      " 59  GarageYrBlt    1379 non-null   float64\n",
      " 60  GarageFinish   1379 non-null   object \n",
      " 61  GarageCars     1460 non-null   int64  \n",
      " 62  GarageArea     1460 non-null   int64  \n",
      " 63  GarageQual     1379 non-null   object \n",
      " 64  GarageCond     1379 non-null   object \n",
      " 65  PavedDrive     1460 non-null   object \n",
      " 66  WoodDeckSF     1460 non-null   int64  \n",
      " 67  OpenPorchSF    1460 non-null   int64  \n",
      " 68  EnclosedPorch  1460 non-null   int64  \n",
      " 69  3SsnPorch      1460 non-null   int64  \n",
      " 70  ScreenPorch    1460 non-null   int64  \n",
      " 71  PoolArea       1460 non-null   int64  \n",
      " 72  PoolQC         7 non-null      object \n",
      " 73  Fence          281 non-null    object \n",
      " 74  MiscFeature    54 non-null     object \n",
      " 75  MiscVal        1460 non-null   int64  \n",
      " 76  MoSold         1460 non-null   int64  \n",
      " 77  YrSold         1460 non-null   int64  \n",
      " 78  SaleType       1460 non-null   object \n",
      " 79  SaleCondition  1460 non-null   object \n",
      " 80  SalePrice      1460 non-null   int64  \n",
      "dtypes: float64(3), int64(35), object(43)\n",
      "memory usage: 924.0+ KB\n"
     ]
    }
   ],
   "source": [
    "data.info()"
   ]
  },
  {
   "cell_type": "markdown",
   "metadata": {},
   "source": [
    "We need to delete the 'Id' column, because it is not required in the model that we will build. "
   ]
  },
  {
   "cell_type": "code",
   "execution_count": 7,
   "metadata": {},
   "outputs": [],
   "source": [
    "# Deleting 'Id' column\n",
    "del data['Id']"
   ]
  },
  {
   "cell_type": "markdown",
   "metadata": {},
   "source": [
    "## Normality Check"
   ]
  },
  {
   "cell_type": "code",
   "execution_count": 8,
   "metadata": {
    "scrolled": false
   },
   "outputs": [
    {
     "data": {
      "text/plain": [
       "[]"
      ]
     },
     "execution_count": 8,
     "metadata": {},
     "output_type": "execute_result"
    },
    {
     "data": {
      "image/png": "[encoded data removed]",
      "text/plain": [
       "<Figure size 576x432 with 1 Axes>"
      ]
     },
     "metadata": {
      "needs_background": "light"
     },
     "output_type": "display_data"
    }
   ],
   "source": [
    "plt.subplots(figsize = (8,6))\n",
    "sns.distplot(data['SalePrice'])\n",
    "plt.ylabel('Frequency')\n",
    "plt.plot()"
   ]
  },
  {
   "cell_type": "code",
   "execution_count": 9,
   "metadata": {},
   "outputs": [
    {
     "data": {
      "text/plain": [
       "[]"
      ]
     },
     "execution_count": 9,
     "metadata": {},
     "output_type": "execute_result"
    },
    {
     "data": {
      "image/png": "[encoded data removed]",
      "text/plain": [
       "<Figure size 576x432 with 1 Axes>"
      ]
     },
     "metadata": {
      "needs_background": "light"
     },
     "output_type": "display_data"
    }
   ],
   "source": [
    "plt.subplots(figsize = (8,6))\n",
    "stats.probplot(data['SalePrice'], plot = plt)\n",
    "plt.plot()"
   ]
  },
  {
   "cell_type": "markdown",
   "metadata": {},
   "source": [
    "The target variable is positively skewed, so we will try to apply log transform and hopefully we will get a normally-distributed target variable."
   ]
  },
  {
   "cell_type": "code",
   "execution_count": 10,
   "metadata": {
    "scrolled": false
   },
   "outputs": [
    {
     "data": {
      "text/plain": [
       "[]"
      ]
     },
     "execution_count": 10,
     "metadata": {},
     "output_type": "execute_result"
    },
    {
     "data": {
      "image/png": "[encoded data removed]",
      "text/plain": [
       "<Figure size 576x432 with 1 Axes>"
      ]
     },
     "metadata": {
      "needs_background": "light"
     },
     "output_type": "display_data"
    }
   ],
   "source": [
    "data['SalePrice'] = np.log1p(data['SalePrice'])\n",
    "\n",
    "plt.subplots(figsize = (8,6))\n",
    "sns.distplot(data['SalePrice'], fit = stats.norm)\n",
    "plt.legend(['Normal Distribution'])\n",
    "plt.plot()"
   ]
  },
  {
   "cell_type": "code",
   "execution_count": 11,
   "metadata": {
    "scrolled": false
   },
   "outputs": [
    {
     "data": {
      "text/plain": [
       "[]"
      ]
     },
     "execution_count": 11,
     "metadata": {},
     "output_type": "execute_result"
    },
    {
     "data": {
      "image/png": "[encoded data removed]",
      "text/plain": [
       "<Figure size 576x432 with 1 Axes>"
      ]
     },
     "metadata": {
      "needs_background": "light"
     },
     "output_type": "display_data"
    }
   ],
   "source": [
    "plt.subplots(figsize = (8,6))\n",
    "stats.probplot(data['SalePrice'], plot = plt)\n",
    "plt.plot()"
   ]
  },
  {
   "cell_type": "markdown",
   "metadata": {},
   "source": [
    "After applying log transform to the target variabel, we achieved a normally-distributed target variable."
   ]
  },
  {
   "cell_type": "markdown",
   "metadata": {},
   "source": [
    "## Missing Values Handling"
   ]
  },
  {
   "cell_type": "code",
   "execution_count": 12,
   "metadata": {
    "scrolled": false
   },
   "outputs": [
    {
     "data": {
      "text/plain": [
       "PoolQC          99.52\n",
       "MiscFeature     96.30\n",
       "Alley           93.77\n",
       "Fence           80.75\n",
       "FireplaceQu     47.26\n",
       "LotFrontage     17.74\n",
       "GarageType       5.55\n",
       "GarageCond       5.55\n",
       "GarageFinish     5.55\n",
       "GarageQual       5.55\n",
       "GarageYrBlt      5.55\n",
       "BsmtFinType2     2.60\n",
       "BsmtExposure     2.60\n",
       "BsmtQual         2.53\n",
       "BsmtCond         2.53\n",
       "BsmtFinType1     2.53\n",
       "MasVnrArea       0.55\n",
       "MasVnrType       0.55\n",
       "Electrical       0.07\n",
       "dtype: float64"
      ]
     },
     "execution_count": 12,
     "metadata": {},
     "output_type": "execute_result"
    }
   ],
   "source": [
    "#Calculating missing values percentage\n",
    "null_pct = round(data.isna().mean()*100, 2).sort_values(ascending = False)\n",
    "null_pct = null_pct[null_pct > 0]\n",
    "null_pct"
   ]
  },
  {
   "cell_type": "markdown",
   "metadata": {},
   "source": [
    "As we can see, the **'PoolQC', 'MiscFeature', 'Alley', and 'Fence'** variable have **more than 70% missing values**, so we need to **drop them**."
   ]
  },
  {
   "cell_type": "code",
   "execution_count": 13,
   "metadata": {},
   "outputs": [],
   "source": [
    "#Dropping columns with more than 70% missing values\n",
    "data.drop(['PoolQC', 'MiscFeature', 'Alley', 'Fence'], axis = 1, inplace = True)"
   ]
  },
  {
   "cell_type": "markdown",
   "metadata": {},
   "source": [
    "The rest of the variables are below 70% in terms of missing values percentage. We can handle all those missing values in 2 ways:\n",
    "\n",
    "**1. Imputing categorical variable missing values with its mode.**<br>\n",
    "**2. Imputing numerical variable missing values with its median.**\n",
    "  \n",
    "So, first we need to check the data type of each variable."
   ]
  },
  {
   "cell_type": "code",
   "execution_count": 14,
   "metadata": {
    "scrolled": false
   },
   "outputs": [
    {
     "name": "stdout",
     "output_type": "stream",
     "text": [
      "<class 'pandas.core.frame.DataFrame'>\n",
      "RangeIndex: 1460 entries, 0 to 1459\n",
      "Data columns (total 15 columns):\n",
      " #   Column        Non-Null Count  Dtype  \n",
      "---  ------        --------------  -----  \n",
      " 0   FireplaceQu   770 non-null    object \n",
      " 1   LotFrontage   1201 non-null   float64\n",
      " 2   GarageCond    1379 non-null   object \n",
      " 3   GarageType    1379 non-null   object \n",
      " 4   GarageYrBlt   1379 non-null   float64\n",
      " 5   GarageFinish  1379 non-null   object \n",
      " 6   GarageQual    1379 non-null   object \n",
      " 7   BsmtExposure  1422 non-null   object \n",
      " 8   BsmtFinType2  1422 non-null   object \n",
      " 9   BsmtFinType1  1423 non-null   object \n",
      " 10  BsmtCond      1423 non-null   object \n",
      " 11  BsmtQual      1423 non-null   object \n",
      " 12  MasVnrArea    1452 non-null   float64\n",
      " 13  MasVnrType    1452 non-null   object \n",
      " 14  Electrical    1459 non-null   object \n",
      "dtypes: float64(3), object(12)\n",
      "memory usage: 171.2+ KB\n"
     ]
    }
   ],
   "source": [
    "# Checking data type of each variable\n",
    "data[['FireplaceQu', 'LotFrontage', 'GarageCond', 'GarageType', 'GarageYrBlt', 'GarageFinish', 'GarageQual', 'BsmtExposure',\n",
    "    'BsmtFinType2', 'BsmtFinType1', 'BsmtCond', 'BsmtQual', 'MasVnrArea', 'MasVnrType', 'Electrical']].info()"
   ]
  },
  {
   "cell_type": "markdown",
   "metadata": {},
   "source": [
    "After knowing the data type of each variable, we can now impute the missing values."
   ]
  },
  {
   "cell_type": "code",
   "execution_count": 15,
   "metadata": {},
   "outputs": [],
   "source": [
    "#Imputing categorical missing values with their mode\n",
    "missing_cat = data[['FireplaceQu', 'GarageCond', 'GarageType', 'GarageFinish', 'GarageQual', 'BsmtExposure', \n",
    "                    'BsmtFinType2', 'BsmtFinType1', 'BsmtCond', 'BsmtQual', 'MasVnrType', 'Electrical']]\n",
    "\n",
    "for col in missing_cat:\n",
    "    data[col].fillna(data[col].mode()[0], inplace = True)\n",
    "\n",
    "#Imputing numerical missing values with their median\n",
    "missing_num = data[['LotFrontage', 'GarageYrBlt', 'MasVnrArea']]\n",
    "\n",
    "for col in missing_num:\n",
    "    data[col].fillna(data[col].median(), inplace = True)"
   ]
  },
  {
   "cell_type": "code",
   "execution_count": 16,
   "metadata": {},
   "outputs": [
    {
     "data": {
      "image/png": "[encoded data removed]",
      "text/plain": [
       "<Figure size 576x432 with 2 Axes>"
      ]
     },
     "metadata": {
      "needs_background": "light"
     },
     "output_type": "display_data"
    }
   ],
   "source": [
    "#Calculating missing values percentage one more time\n",
    "plt.subplots(figsize = (8,6))\n",
    "sns.heatmap(data.isna())\n",
    "plt.show()"
   ]
  },
  {
   "cell_type": "markdown",
   "metadata": {},
   "source": [
    "Now, there is no missing value in our dataset."
   ]
  },
  {
   "cell_type": "markdown",
   "metadata": {},
   "source": [
    "## Encoding Categorical Variables"
   ]
  },
  {
   "cell_type": "markdown",
   "metadata": {},
   "source": [
    "There are 2 types of categorical variable in our dataset: ordinal and nominal. We need to encode them first before we jump into the modelling part.\n",
    "\n",
    "We will use the **OrdinalEncoder** library to encode our ordinal variables. Here are the ordinal variables which are categorical variables that have ranks in our dataset:"
   ]
  },
  {
   "cell_type": "code",
   "execution_count": 17,
   "metadata": {},
   "outputs": [
    {
     "data": {
      "text/html": [
       "<div>\n",
       "<style scoped>\n",
       "    .dataframe tbody tr th:only-of-type {\n",
       "        vertical-align: middle;\n",
       "    }\n",
       "\n",
       "    .dataframe tbody tr th {\n",
       "        vertical-align: top;\n",
       "    }\n",
       "\n",
       "    .dataframe thead th {\n",
       "        text-align: right;\n",
       "    }\n",
       "</style>\n",
       "<table border=\"1\" class=\"dataframe\">\n",
       "  <thead>\n",
       "    <tr style=\"text-align: right;\">\n",
       "      <th></th>\n",
       "      <th>ExterQual</th>\n",
       "      <th>ExterCond</th>\n",
       "      <th>BsmtQual</th>\n",
       "      <th>BsmtCond</th>\n",
       "      <th>HeatingQC</th>\n",
       "      <th>KitchenQual</th>\n",
       "      <th>FireplaceQu</th>\n",
       "      <th>GarageQual</th>\n",
       "      <th>GarageCond</th>\n",
       "    </tr>\n",
       "  </thead>\n",
       "  <tbody>\n",
       "    <tr>\n",
       "      <th>0</th>\n",
       "      <td>Gd</td>\n",
       "      <td>TA</td>\n",
       "      <td>Gd</td>\n",
       "      <td>TA</td>\n",
       "      <td>Ex</td>\n",
       "      <td>Gd</td>\n",
       "      <td>Gd</td>\n",
       "      <td>TA</td>\n",
       "      <td>TA</td>\n",
       "    </tr>\n",
       "    <tr>\n",
       "      <th>1</th>\n",
       "      <td>TA</td>\n",
       "      <td>TA</td>\n",
       "      <td>Gd</td>\n",
       "      <td>TA</td>\n",
       "      <td>Ex</td>\n",
       "      <td>TA</td>\n",
       "      <td>TA</td>\n",
       "      <td>TA</td>\n",
       "      <td>TA</td>\n",
       "    </tr>\n",
       "    <tr>\n",
       "      <th>2</th>\n",
       "      <td>Gd</td>\n",
       "      <td>TA</td>\n",
       "      <td>Gd</td>\n",
       "      <td>TA</td>\n",
       "      <td>Ex</td>\n",
       "      <td>Gd</td>\n",
       "      <td>TA</td>\n",
       "      <td>TA</td>\n",
       "      <td>TA</td>\n",
       "    </tr>\n",
       "    <tr>\n",
       "      <th>3</th>\n",
       "      <td>TA</td>\n",
       "      <td>TA</td>\n",
       "      <td>TA</td>\n",
       "      <td>Gd</td>\n",
       "      <td>Gd</td>\n",
       "      <td>Gd</td>\n",
       "      <td>Gd</td>\n",
       "      <td>TA</td>\n",
       "      <td>TA</td>\n",
       "    </tr>\n",
       "    <tr>\n",
       "      <th>4</th>\n",
       "      <td>Gd</td>\n",
       "      <td>TA</td>\n",
       "      <td>Gd</td>\n",
       "      <td>TA</td>\n",
       "      <td>Ex</td>\n",
       "      <td>Gd</td>\n",
       "      <td>TA</td>\n",
       "      <td>TA</td>\n",
       "      <td>TA</td>\n",
       "    </tr>\n",
       "  </tbody>\n",
       "</table>\n",
       "</div>"
      ],
      "text/plain": [
       "  ExterQual ExterCond BsmtQual BsmtCond HeatingQC KitchenQual FireplaceQu  \\\n",
       "0        Gd        TA       Gd       TA        Ex          Gd          Gd   \n",
       "1        TA        TA       Gd       TA        Ex          TA          TA   \n",
       "2        Gd        TA       Gd       TA        Ex          Gd          TA   \n",
       "3        TA        TA       TA       Gd        Gd          Gd          Gd   \n",
       "4        Gd        TA       Gd       TA        Ex          Gd          TA   \n",
       "\n",
       "  GarageQual GarageCond  \n",
       "0         TA         TA  \n",
       "1         TA         TA  \n",
       "2         TA         TA  \n",
       "3         TA         TA  \n",
       "4         TA         TA  "
      ]
     },
     "execution_count": 17,
     "metadata": {},
     "output_type": "execute_result"
    }
   ],
   "source": [
    "#Selecting ordinal variables \n",
    "ordinal_var = data[['ExterQual', 'ExterCond', 'BsmtQual', 'BsmtCond', 'HeatingQC', 'KitchenQual',\n",
    "                    'FireplaceQu', 'GarageQual', 'GarageCond']]\n",
    "\n",
    "ordinal_var.head()"
   ]
  },
  {
   "cell_type": "markdown",
   "metadata": {},
   "source": [
    "We will encode our ordinal variables by this conditions:\n",
    "\n",
    "1. **'Ex'** (Excellent): 4\n",
    "2. **'Gd'** (Good): 3\n",
    "3. **'TA'** (Typical/Average): 2\n",
    "4. **'Fa'** (Fair): 1\n",
    "5. **'Po'** (Poor): 0"
   ]
  },
  {
   "cell_type": "code",
   "execution_count": 18,
   "metadata": {
    "scrolled": true
   },
   "outputs": [],
   "source": [
    "#Encoding ordinal variables\n",
    "for col in ordinal_var:\n",
    "    qual_map = [\n",
    "        {'col' : col,\n",
    "         'mapping' : {\n",
    "             'Ex' : 4,\n",
    "             'Gd' : 3,\n",
    "             'TA' : 2,\n",
    "             'Fa' : 1,\n",
    "             'Po' : 0,\n",
    "         }}\n",
    "    ]\n",
    "    \n",
    "    enc = ce.OrdinalEncoder(mapping = qual_map, return_df = True)\n",
    "    data[col] = enc.fit_transform(data[col])"
   ]
  },
  {
   "cell_type": "code",
   "execution_count": 19,
   "metadata": {
    "scrolled": false
   },
   "outputs": [
    {
     "data": {
      "text/html": [
       "<div>\n",
       "<style scoped>\n",
       "    .dataframe tbody tr th:only-of-type {\n",
       "        vertical-align: middle;\n",
       "    }\n",
       "\n",
       "    .dataframe tbody tr th {\n",
       "        vertical-align: top;\n",
       "    }\n",
       "\n",
       "    .dataframe thead th {\n",
       "        text-align: right;\n",
       "    }\n",
       "</style>\n",
       "<table border=\"1\" class=\"dataframe\">\n",
       "  <thead>\n",
       "    <tr style=\"text-align: right;\">\n",
       "      <th></th>\n",
       "      <th>ExterQual</th>\n",
       "      <th>ExterCond</th>\n",
       "      <th>BsmtQual</th>\n",
       "      <th>BsmtCond</th>\n",
       "      <th>HeatingQC</th>\n",
       "      <th>KitchenQual</th>\n",
       "      <th>FireplaceQu</th>\n",
       "      <th>GarageQual</th>\n",
       "      <th>GarageCond</th>\n",
       "    </tr>\n",
       "  </thead>\n",
       "  <tbody>\n",
       "    <tr>\n",
       "      <th>0</th>\n",
       "      <td>3</td>\n",
       "      <td>2</td>\n",
       "      <td>3</td>\n",
       "      <td>2</td>\n",
       "      <td>4</td>\n",
       "      <td>3</td>\n",
       "      <td>3</td>\n",
       "      <td>2</td>\n",
       "      <td>2</td>\n",
       "    </tr>\n",
       "    <tr>\n",
       "      <th>1</th>\n",
       "      <td>2</td>\n",
       "      <td>2</td>\n",
       "      <td>3</td>\n",
       "      <td>2</td>\n",
       "      <td>4</td>\n",
       "      <td>2</td>\n",
       "      <td>2</td>\n",
       "      <td>2</td>\n",
       "      <td>2</td>\n",
       "    </tr>\n",
       "    <tr>\n",
       "      <th>2</th>\n",
       "      <td>3</td>\n",
       "      <td>2</td>\n",
       "      <td>3</td>\n",
       "      <td>2</td>\n",
       "      <td>4</td>\n",
       "      <td>3</td>\n",
       "      <td>2</td>\n",
       "      <td>2</td>\n",
       "      <td>2</td>\n",
       "    </tr>\n",
       "    <tr>\n",
       "      <th>3</th>\n",
       "      <td>2</td>\n",
       "      <td>2</td>\n",
       "      <td>2</td>\n",
       "      <td>3</td>\n",
       "      <td>3</td>\n",
       "      <td>3</td>\n",
       "      <td>3</td>\n",
       "      <td>2</td>\n",
       "      <td>2</td>\n",
       "    </tr>\n",
       "    <tr>\n",
       "      <th>4</th>\n",
       "      <td>3</td>\n",
       "      <td>2</td>\n",
       "      <td>3</td>\n",
       "      <td>2</td>\n",
       "      <td>4</td>\n",
       "      <td>3</td>\n",
       "      <td>2</td>\n",
       "      <td>2</td>\n",
       "      <td>2</td>\n",
       "    </tr>\n",
       "  </tbody>\n",
       "</table>\n",
       "</div>"
      ],
      "text/plain": [
       "   ExterQual  ExterCond  BsmtQual  BsmtCond  HeatingQC  KitchenQual  \\\n",
       "0          3          2         3         2          4            3   \n",
       "1          2          2         3         2          4            2   \n",
       "2          3          2         3         2          4            3   \n",
       "3          2          2         2         3          3            3   \n",
       "4          3          2         3         2          4            3   \n",
       "\n",
       "   FireplaceQu  GarageQual  GarageCond  \n",
       "0            3           2           2  \n",
       "1            2           2           2  \n",
       "2            2           2           2  \n",
       "3            3           2           2  \n",
       "4            2           2           2  "
      ]
     },
     "execution_count": 19,
     "metadata": {},
     "output_type": "execute_result"
    }
   ],
   "source": [
    "# Checking encoded ordinal variables\n",
    "data[['ExterQual', 'ExterCond', 'BsmtQual', 'BsmtCond', 'HeatingQC', 'KitchenQual', \n",
    "      'FireplaceQu','GarageQual', 'GarageCond']].head()"
   ]
  },
  {
   "cell_type": "markdown",
   "metadata": {},
   "source": [
    "Now, after encoding our ordinal variables, we are now left with nominal variables which still have 'object' as their data type. To select the nominal variables, we can simply select the variables which have 'object' as their data type."
   ]
  },
  {
   "cell_type": "code",
   "execution_count": 20,
   "metadata": {},
   "outputs": [
    {
     "data": {
      "text/html": [
       "<div>\n",
       "<style scoped>\n",
       "    .dataframe tbody tr th:only-of-type {\n",
       "        vertical-align: middle;\n",
       "    }\n",
       "\n",
       "    .dataframe tbody tr th {\n",
       "        vertical-align: top;\n",
       "    }\n",
       "\n",
       "    .dataframe thead th {\n",
       "        text-align: right;\n",
       "    }\n",
       "</style>\n",
       "<table border=\"1\" class=\"dataframe\">\n",
       "  <thead>\n",
       "    <tr style=\"text-align: right;\">\n",
       "      <th></th>\n",
       "      <th>MSZoning</th>\n",
       "      <th>Street</th>\n",
       "      <th>LotShape</th>\n",
       "      <th>LandContour</th>\n",
       "      <th>Utilities</th>\n",
       "      <th>LotConfig</th>\n",
       "      <th>LandSlope</th>\n",
       "      <th>Neighborhood</th>\n",
       "      <th>Condition1</th>\n",
       "      <th>Condition2</th>\n",
       "      <th>...</th>\n",
       "      <th>BsmtFinType2</th>\n",
       "      <th>Heating</th>\n",
       "      <th>CentralAir</th>\n",
       "      <th>Electrical</th>\n",
       "      <th>Functional</th>\n",
       "      <th>GarageType</th>\n",
       "      <th>GarageFinish</th>\n",
       "      <th>PavedDrive</th>\n",
       "      <th>SaleType</th>\n",
       "      <th>SaleCondition</th>\n",
       "    </tr>\n",
       "  </thead>\n",
       "  <tbody>\n",
       "    <tr>\n",
       "      <th>0</th>\n",
       "      <td>RL</td>\n",
       "      <td>Pave</td>\n",
       "      <td>Reg</td>\n",
       "      <td>Lvl</td>\n",
       "      <td>AllPub</td>\n",
       "      <td>Inside</td>\n",
       "      <td>Gtl</td>\n",
       "      <td>CollgCr</td>\n",
       "      <td>Norm</td>\n",
       "      <td>Norm</td>\n",
       "      <td>...</td>\n",
       "      <td>Unf</td>\n",
       "      <td>GasA</td>\n",
       "      <td>Y</td>\n",
       "      <td>SBrkr</td>\n",
       "      <td>Typ</td>\n",
       "      <td>Attchd</td>\n",
       "      <td>RFn</td>\n",
       "      <td>Y</td>\n",
       "      <td>WD</td>\n",
       "      <td>Normal</td>\n",
       "    </tr>\n",
       "    <tr>\n",
       "      <th>1</th>\n",
       "      <td>RL</td>\n",
       "      <td>Pave</td>\n",
       "      <td>Reg</td>\n",
       "      <td>Lvl</td>\n",
       "      <td>AllPub</td>\n",
       "      <td>FR2</td>\n",
       "      <td>Gtl</td>\n",
       "      <td>Veenker</td>\n",
       "      <td>Feedr</td>\n",
       "      <td>Norm</td>\n",
       "      <td>...</td>\n",
       "      <td>Unf</td>\n",
       "      <td>GasA</td>\n",
       "      <td>Y</td>\n",
       "      <td>SBrkr</td>\n",
       "      <td>Typ</td>\n",
       "      <td>Attchd</td>\n",
       "      <td>RFn</td>\n",
       "      <td>Y</td>\n",
       "      <td>WD</td>\n",
       "      <td>Normal</td>\n",
       "    </tr>\n",
       "    <tr>\n",
       "      <th>2</th>\n",
       "      <td>RL</td>\n",
       "      <td>Pave</td>\n",
       "      <td>IR1</td>\n",
       "      <td>Lvl</td>\n",
       "      <td>AllPub</td>\n",
       "      <td>Inside</td>\n",
       "      <td>Gtl</td>\n",
       "      <td>CollgCr</td>\n",
       "      <td>Norm</td>\n",
       "      <td>Norm</td>\n",
       "      <td>...</td>\n",
       "      <td>Unf</td>\n",
       "      <td>GasA</td>\n",
       "      <td>Y</td>\n",
       "      <td>SBrkr</td>\n",
       "      <td>Typ</td>\n",
       "      <td>Attchd</td>\n",
       "      <td>RFn</td>\n",
       "      <td>Y</td>\n",
       "      <td>WD</td>\n",
       "      <td>Normal</td>\n",
       "    </tr>\n",
       "    <tr>\n",
       "      <th>3</th>\n",
       "      <td>RL</td>\n",
       "      <td>Pave</td>\n",
       "      <td>IR1</td>\n",
       "      <td>Lvl</td>\n",
       "      <td>AllPub</td>\n",
       "      <td>Corner</td>\n",
       "      <td>Gtl</td>\n",
       "      <td>Crawfor</td>\n",
       "      <td>Norm</td>\n",
       "      <td>Norm</td>\n",
       "      <td>...</td>\n",
       "      <td>Unf</td>\n",
       "      <td>GasA</td>\n",
       "      <td>Y</td>\n",
       "      <td>SBrkr</td>\n",
       "      <td>Typ</td>\n",
       "      <td>Detchd</td>\n",
       "      <td>Unf</td>\n",
       "      <td>Y</td>\n",
       "      <td>WD</td>\n",
       "      <td>Abnorml</td>\n",
       "    </tr>\n",
       "    <tr>\n",
       "      <th>4</th>\n",
       "      <td>RL</td>\n",
       "      <td>Pave</td>\n",
       "      <td>IR1</td>\n",
       "      <td>Lvl</td>\n",
       "      <td>AllPub</td>\n",
       "      <td>FR2</td>\n",
       "      <td>Gtl</td>\n",
       "      <td>NoRidge</td>\n",
       "      <td>Norm</td>\n",
       "      <td>Norm</td>\n",
       "      <td>...</td>\n",
       "      <td>Unf</td>\n",
       "      <td>GasA</td>\n",
       "      <td>Y</td>\n",
       "      <td>SBrkr</td>\n",
       "      <td>Typ</td>\n",
       "      <td>Attchd</td>\n",
       "      <td>RFn</td>\n",
       "      <td>Y</td>\n",
       "      <td>WD</td>\n",
       "      <td>Normal</td>\n",
       "    </tr>\n",
       "  </tbody>\n",
       "</table>\n",
       "<p>5 rows × 30 columns</p>\n",
       "</div>"
      ],
      "text/plain": [
       "  MSZoning Street LotShape LandContour Utilities LotConfig LandSlope  \\\n",
       "0       RL   Pave      Reg         Lvl    AllPub    Inside       Gtl   \n",
       "1       RL   Pave      Reg         Lvl    AllPub       FR2       Gtl   \n",
       "2       RL   Pave      IR1         Lvl    AllPub    Inside       Gtl   \n",
       "3       RL   Pave      IR1         Lvl    AllPub    Corner       Gtl   \n",
       "4       RL   Pave      IR1         Lvl    AllPub       FR2       Gtl   \n",
       "\n",
       "  Neighborhood Condition1 Condition2  ... BsmtFinType2 Heating CentralAir  \\\n",
       "0      CollgCr       Norm       Norm  ...          Unf    GasA          Y   \n",
       "1      Veenker      Feedr       Norm  ...          Unf    GasA          Y   \n",
       "2      CollgCr       Norm       Norm  ...          Unf    GasA          Y   \n",
       "3      Crawfor       Norm       Norm  ...          Unf    GasA          Y   \n",
       "4      NoRidge       Norm       Norm  ...          Unf    GasA          Y   \n",
       "\n",
       "  Electrical Functional GarageType GarageFinish PavedDrive SaleType  \\\n",
       "0      SBrkr        Typ     Attchd          RFn          Y       WD   \n",
       "1      SBrkr        Typ     Attchd          RFn          Y       WD   \n",
       "2      SBrkr        Typ     Attchd          RFn          Y       WD   \n",
       "3      SBrkr        Typ     Detchd          Unf          Y       WD   \n",
       "4      SBrkr        Typ     Attchd          RFn          Y       WD   \n",
       "\n",
       "  SaleCondition  \n",
       "0        Normal  \n",
       "1        Normal  \n",
       "2        Normal  \n",
       "3       Abnorml  \n",
       "4        Normal  \n",
       "\n",
       "[5 rows x 30 columns]"
      ]
     },
     "execution_count": 20,
     "metadata": {},
     "output_type": "execute_result"
    }
   ],
   "source": [
    "# Selecting nominal variables\n",
    "nominal_var = data.select_dtypes(include = ['object'])\n",
    "nominal_var.head()"
   ]
  },
  {
   "cell_type": "markdown",
   "metadata": {},
   "source": [
    "We will use **LabelEncoder** from sklearn library to encode our nominal variables."
   ]
  },
  {
   "cell_type": "code",
   "execution_count": 21,
   "metadata": {},
   "outputs": [],
   "source": [
    "le = LabelEncoder()\n",
    "\n",
    "for col in nominal_var:\n",
    "    data[col] = le.fit_transform(data[col])"
   ]
  },
  {
   "cell_type": "code",
   "execution_count": 22,
   "metadata": {
    "scrolled": false
   },
   "outputs": [
    {
     "name": "stdout",
     "output_type": "stream",
     "text": [
      "<class 'pandas.core.frame.DataFrame'>\n",
      "RangeIndex: 1460 entries, 0 to 1459\n",
      "Data columns (total 76 columns):\n",
      " #   Column         Non-Null Count  Dtype  \n",
      "---  ------         --------------  -----  \n",
      " 0   MSSubClass     1460 non-null   int64  \n",
      " 1   MSZoning       1460 non-null   int32  \n",
      " 2   LotFrontage    1460 non-null   float64\n",
      " 3   LotArea        1460 non-null   int64  \n",
      " 4   Street         1460 non-null   int32  \n",
      " 5   LotShape       1460 non-null   int32  \n",
      " 6   LandContour    1460 non-null   int32  \n",
      " 7   Utilities      1460 non-null   int32  \n",
      " 8   LotConfig      1460 non-null   int32  \n",
      " 9   LandSlope      1460 non-null   int32  \n",
      " 10  Neighborhood   1460 non-null   int32  \n",
      " 11  Condition1     1460 non-null   int32  \n",
      " 12  Condition2     1460 non-null   int32  \n",
      " 13  BldgType       1460 non-null   int32  \n",
      " 14  HouseStyle     1460 non-null   int32  \n",
      " 15  OverallQual    1460 non-null   int64  \n",
      " 16  OverallCond    1460 non-null   int64  \n",
      " 17  YearBuilt      1460 non-null   int64  \n",
      " 18  YearRemodAdd   1460 non-null   int64  \n",
      " 19  RoofStyle      1460 non-null   int32  \n",
      " 20  RoofMatl       1460 non-null   int32  \n",
      " 21  Exterior1st    1460 non-null   int32  \n",
      " 22  Exterior2nd    1460 non-null   int32  \n",
      " 23  MasVnrType     1460 non-null   int32  \n",
      " 24  MasVnrArea     1460 non-null   float64\n",
      " 25  ExterQual      1460 non-null   int32  \n",
      " 26  ExterCond      1460 non-null   int32  \n",
      " 27  Foundation     1460 non-null   int32  \n",
      " 28  BsmtQual       1460 non-null   int32  \n",
      " 29  BsmtCond       1460 non-null   int32  \n",
      " 30  BsmtExposure   1460 non-null   int32  \n",
      " 31  BsmtFinType1   1460 non-null   int32  \n",
      " 32  BsmtFinSF1     1460 non-null   int64  \n",
      " 33  BsmtFinType2   1460 non-null   int32  \n",
      " 34  BsmtFinSF2     1460 non-null   int64  \n",
      " 35  BsmtUnfSF      1460 non-null   int64  \n",
      " 36  TotalBsmtSF    1460 non-null   int64  \n",
      " 37  Heating        1460 non-null   int32  \n",
      " 38  HeatingQC      1460 non-null   int32  \n",
      " 39  CentralAir     1460 non-null   int32  \n",
      " 40  Electrical     1460 non-null   int32  \n",
      " 41  1stFlrSF       1460 non-null   int64  \n",
      " 42  2ndFlrSF       1460 non-null   int64  \n",
      " 43  LowQualFinSF   1460 non-null   int64  \n",
      " 44  GrLivArea      1460 non-null   int64  \n",
      " 45  BsmtFullBath   1460 non-null   int64  \n",
      " 46  BsmtHalfBath   1460 non-null   int64  \n",
      " 47  FullBath       1460 non-null   int64  \n",
      " 48  HalfBath       1460 non-null   int64  \n",
      " 49  BedroomAbvGr   1460 non-null   int64  \n",
      " 50  KitchenAbvGr   1460 non-null   int64  \n",
      " 51  KitchenQual    1460 non-null   int32  \n",
      " 52  TotRmsAbvGrd   1460 non-null   int64  \n",
      " 53  Functional     1460 non-null   int32  \n",
      " 54  Fireplaces     1460 non-null   int64  \n",
      " 55  FireplaceQu    1460 non-null   int32  \n",
      " 56  GarageType     1460 non-null   int32  \n",
      " 57  GarageYrBlt    1460 non-null   float64\n",
      " 58  GarageFinish   1460 non-null   int32  \n",
      " 59  GarageCars     1460 non-null   int64  \n",
      " 60  GarageArea     1460 non-null   int64  \n",
      " 61  GarageQual     1460 non-null   int32  \n",
      " 62  GarageCond     1460 non-null   int32  \n",
      " 63  PavedDrive     1460 non-null   int32  \n",
      " 64  WoodDeckSF     1460 non-null   int64  \n",
      " 65  OpenPorchSF    1460 non-null   int64  \n",
      " 66  EnclosedPorch  1460 non-null   int64  \n",
      " 67  3SsnPorch      1460 non-null   int64  \n",
      " 68  ScreenPorch    1460 non-null   int64  \n",
      " 69  PoolArea       1460 non-null   int64  \n",
      " 70  MiscVal        1460 non-null   int64  \n",
      " 71  MoSold         1460 non-null   int64  \n",
      " 72  YrSold         1460 non-null   int64  \n",
      " 73  SaleType       1460 non-null   int32  \n",
      " 74  SaleCondition  1460 non-null   int32  \n",
      " 75  SalePrice      1460 non-null   float64\n",
      "dtypes: float64(4), int32(39), int64(33)\n",
      "memory usage: 644.6 KB\n"
     ]
    }
   ],
   "source": [
    "data.info()"
   ]
  },
  {
   "cell_type": "markdown",
   "metadata": {},
   "source": [
    "As we can see, now we are all have all-numeric dataset."
   ]
  },
  {
   "cell_type": "markdown",
   "metadata": {},
   "source": [
    "## Correlation Check"
   ]
  },
  {
   "cell_type": "code",
   "execution_count": 23,
   "metadata": {
    "scrolled": false
   },
   "outputs": [
    {
     "data": {
      "text/plain": [
       "SalePrice      1.000000\n",
       "OverallQual    0.817185\n",
       "GrLivArea      0.700927\n",
       "GarageCars     0.680625\n",
       "ExterQual      0.678840\n",
       "KitchenQual    0.667893\n",
       "BsmtQual       0.657131\n",
       "GarageArea     0.650888\n",
       "TotalBsmtSF    0.612134\n",
       "1stFlrSF       0.596981\n",
       "FullBath       0.594771\n",
       "YearBuilt      0.586570\n",
       "Name: SalePrice, dtype: float64"
      ]
     },
     "execution_count": 23,
     "metadata": {},
     "output_type": "execute_result"
    }
   ],
   "source": [
    "data.corr()['SalePrice'].abs().sort_values(ascending = False).head(12)"
   ]
  },
  {
   "cell_type": "markdown",
   "metadata": {},
   "source": [
    "## Preparing The Data for Modelling"
   ]
  },
  {
   "cell_type": "markdown",
   "metadata": {},
   "source": [
    "Target variable: 'SalePrice'<br>\n",
    "Predictor/feature variables: all variables except 'SalePrice'"
   ]
  },
  {
   "cell_type": "code",
   "execution_count": 24,
   "metadata": {
    "scrolled": true
   },
   "outputs": [],
   "source": [
    "y = data['SalePrice']\n",
    "\n",
    "X = data.drop(['SalePrice'], axis = 1)"
   ]
  },
  {
   "cell_type": "markdown",
   "metadata": {},
   "source": [
    "Train data: 80% from the whole dataset<br>\n",
    "Test data: 20% from the whole dataset"
   ]
  },
  {
   "cell_type": "code",
   "execution_count": 26,
   "metadata": {},
   "outputs": [],
   "source": [
    "X_train, X_test, y_train, y_test = train_test_split(X, y, test_size = 0.2)"
   ]
  },
  {
   "cell_type": "markdown",
   "metadata": {},
   "source": [
    "## Linear Regression with sklearn"
   ]
  },
  {
   "cell_type": "code",
   "execution_count": 27,
   "metadata": {},
   "outputs": [
    {
     "name": "stdout",
     "output_type": "stream",
     "text": [
      "Intercept: \n",
      " 20.747147239252726\n",
      "Coefficients: \n",
      " [-2.17209595e-04 -9.20784032e-03 -4.13333113e-04  1.53344183e-06\n",
      "  1.58120656e-01 -6.59193031e-03 -2.23368686e-06 -1.64116008e-01\n",
      " -8.08800945e-04  2.03336678e-02  1.00998918e-03  6.25202665e-03\n",
      " -7.38333437e-03 -1.53246964e-02 -7.60741060e-03  6.80314503e-02\n",
      "  3.64330957e-02  1.55571377e-03  6.00827275e-04  4.46675153e-03\n",
      "  1.02180779e-02 -6.02080239e-03  3.56511158e-03  1.09605111e-02\n",
      "  1.53871121e-05  1.72433054e-02 -1.31585672e-02  1.59438543e-02\n",
      "  3.30371830e-02  1.14782859e-03 -1.11780757e-02 -8.52161918e-03\n",
      " -5.33591214e-06  1.33488440e-02  5.65502131e-05 -1.31226928e-05\n",
      "  3.80916089e-05 -2.78404771e-03  1.33830335e-02  9.76331751e-02\n",
      " -5.29224421e-04  7.55727664e-05  4.39544380e-05  2.93108639e-05\n",
      "  1.48838068e-04  5.32095094e-02  2.85358198e-02  4.56000611e-02\n",
      "  2.62802345e-02 -5.73287153e-03 -3.89916125e-02  2.69400221e-02\n",
      "  1.18360895e-02  1.87283030e-02  2.78578004e-02  5.27633541e-03\n",
      " -3.91983005e-03 -9.41894470e-04 -7.73416028e-03  6.83702779e-02\n",
      "  8.60964307e-06  3.09407906e-02  1.29434474e-02  1.48356461e-02\n",
      "  1.02492041e-04  1.08219743e-05  7.71350659e-05  2.96968231e-04\n",
      "  3.02961196e-04 -2.98211843e-04 -4.31077735e-06  5.08195007e-04\n",
      " -6.51746343e-03 -1.68738351e-03  2.04416097e-02]\n"
     ]
    }
   ],
   "source": [
    "# Train the model\n",
    "reg = LinearRegression()\n",
    "\n",
    "reg.fit(X_train, y_train)\n",
    "\n",
    "print('Intercept: \\n', reg.intercept_)\n",
    "print('Coefficients: \\n', reg.coef_)"
   ]
  },
  {
   "cell_type": "code",
   "execution_count": 28,
   "metadata": {
    "scrolled": true
   },
   "outputs": [
    {
     "data": {
      "text/plain": [
       "0.8871426866410173"
      ]
     },
     "execution_count": 28,
     "metadata": {},
     "output_type": "execute_result"
    }
   ],
   "source": [
    "# Train score\n",
    "reg.score(X_train, y_train)"
   ]
  },
  {
   "cell_type": "code",
   "execution_count": 29,
   "metadata": {},
   "outputs": [
    {
     "data": {
      "text/plain": [
       "0.8731709483187664"
      ]
     },
     "execution_count": 29,
     "metadata": {},
     "output_type": "execute_result"
    }
   ],
   "source": [
    "# Test score\n",
    "reg.score(X_test, y_test)"
   ]
  },
  {
   "cell_type": "markdown",
   "metadata": {},
   "source": [
    "## Linear Regression with statsmodel"
   ]
  },
  {
   "cell_type": "code",
   "execution_count": 30,
   "metadata": {
    "scrolled": false
   },
   "outputs": [
    {
     "name": "stdout",
     "output_type": "stream",
     "text": [
      "                            OLS Regression Results                            \n",
      "==============================================================================\n",
      "Dep. Variable:              SalePrice   R-squared:                       0.887\n",
      "Model:                            OLS   Adj. R-squared:                  0.880\n",
      "Method:                 Least Squares   F-statistic:                     117.8\n",
      "Date:                Sun, 30 Aug 2020   Prob (F-statistic):               0.00\n",
      "Time:                        17:58:43   Log-Likelihood:                 692.88\n",
      "No. Observations:                1168   AIC:                            -1238.\n",
      "Df Residuals:                    1094   BIC:                            -863.1\n",
      "Df Model:                          73                                         \n",
      "Covariance Type:            nonrobust                                         \n",
      "=================================================================================\n",
      "                    coef    std err          t      P>|t|      [0.025      0.975]\n",
      "---------------------------------------------------------------------------------\n",
      "const            20.7471      6.529      3.178      0.002       7.936      33.558\n",
      "MSSubClass       -0.0002      0.000     -0.961      0.337      -0.001       0.000\n",
      "MSZoning         -0.0092      0.007     -1.275      0.203      -0.023       0.005\n",
      "LotFrontage      -0.0004      0.000     -1.741      0.082      -0.001    5.25e-05\n",
      "LotArea        1.533e-06   4.94e-07      3.102      0.002    5.64e-07     2.5e-06\n",
      "Street            0.1581      0.062      2.568      0.010       0.037       0.279\n",
      "LotShape         -0.0066      0.003     -2.032      0.042      -0.013      -0.000\n",
      "LandContour   -2.234e-06      0.007     -0.000      1.000      -0.013       0.013\n",
      "Utilities        -0.1641      0.147     -1.119      0.263      -0.452       0.124\n",
      "LotConfig        -0.0008      0.003     -0.303      0.762      -0.006       0.004\n",
      "LandSlope         0.0203      0.019      1.081      0.280      -0.017       0.057\n",
      "Neighborhood      0.0010      0.001      1.317      0.188      -0.000       0.003\n",
      "Condition1        0.0063      0.005      1.197      0.231      -0.004       0.016\n",
      "Condition2       -0.0074      0.019     -0.396      0.692      -0.044       0.029\n",
      "BldgType         -0.0153      0.007     -2.061      0.040      -0.030      -0.001\n",
      "HouseStyle       -0.0076      0.003     -2.268      0.024      -0.014      -0.001\n",
      "OverallQual       0.0680      0.006     11.545      0.000       0.056       0.080\n",
      "OverallCond       0.0364      0.005      6.807      0.000       0.026       0.047\n",
      "YearBuilt         0.0016      0.000      3.964      0.000       0.001       0.002\n",
      "YearRemodAdd      0.0006      0.000      1.743      0.082   -7.54e-05       0.001\n",
      "RoofStyle         0.0045      0.005      0.816      0.415      -0.006       0.015\n",
      "RoofMatl          0.0102      0.007      1.383      0.167      -0.004       0.025\n",
      "Exterior1st      -0.0060      0.003     -2.351      0.019      -0.011      -0.001\n",
      "Exterior2nd       0.0036      0.002      1.568      0.117      -0.001       0.008\n",
      "MasVnrType        0.0110      0.008      1.398      0.162      -0.004       0.026\n",
      "MasVnrArea     1.539e-05   3.13e-05      0.492      0.623    -4.6e-05    7.68e-05\n",
      "ExterQual         0.0172      0.013      1.365      0.172      -0.008       0.042\n",
      "ExterCond        -0.0132      0.013     -1.005      0.315      -0.039       0.013\n",
      "Foundation        0.0159      0.008      1.925      0.054      -0.000       0.032\n",
      "BsmtQual          0.0330      0.011      3.016      0.003       0.012       0.055\n",
      "BsmtCond          0.0011      0.016      0.074      0.941      -0.029       0.032\n",
      "BsmtExposure     -0.0112      0.004     -2.575      0.010      -0.020      -0.003\n",
      "BsmtFinType1     -0.0085      0.003     -2.759      0.006      -0.015      -0.002\n",
      "BsmtFinSF1    -5.336e-06   1.42e-05     -0.375      0.708   -3.33e-05    2.26e-05\n",
      "BsmtFinType2      0.0133      0.007      1.938      0.053      -0.000       0.027\n",
      "BsmtFinSF2     5.655e-05   3.05e-05      1.857      0.064    -3.2e-06       0.000\n",
      "BsmtUnfSF     -1.312e-05    1.4e-05     -0.937      0.349   -4.06e-05    1.44e-05\n",
      "TotalBsmtSF    3.809e-05   1.74e-05      2.187      0.029    3.92e-06    7.23e-05\n",
      "Heating          -0.0028      0.015     -0.183      0.855      -0.033       0.027\n",
      "HeatingQC         0.0134      0.006      2.267      0.024       0.002       0.025\n",
      "CentralAir        0.0976      0.023      4.314      0.000       0.053       0.142\n",
      "Electrical       -0.0005      0.005     -0.115      0.909      -0.010       0.009\n",
      "1stFlrSF       7.557e-05   2.76e-05      2.739      0.006    2.14e-05       0.000\n",
      "2ndFlrSF       4.395e-05   2.62e-05      1.679      0.094   -7.43e-06    9.53e-05\n",
      "LowQualFinSF   2.931e-05   6.45e-05      0.454      0.650   -9.73e-05       0.000\n",
      "GrLivArea         0.0001   2.56e-05      5.805      0.000    9.85e-05       0.000\n",
      "BsmtFullBath      0.0532      0.012      4.496      0.000       0.030       0.076\n",
      "BsmtHalfBath      0.0285      0.019      1.488      0.137      -0.009       0.066\n",
      "FullBath          0.0456      0.013      3.495      0.000       0.020       0.071\n",
      "HalfBath          0.0263      0.013      2.085      0.037       0.002       0.051\n",
      "BedroomAbvGr     -0.0057      0.008     -0.710      0.478      -0.022       0.010\n",
      "KitchenAbvGr     -0.0390      0.024     -1.595      0.111      -0.087       0.009\n",
      "KitchenQual       0.0269      0.010      2.594      0.010       0.007       0.047\n",
      "TotRmsAbvGrd      0.0118      0.006      2.025      0.043       0.000       0.023\n",
      "Functional        0.0187      0.005      4.117      0.000       0.010       0.028\n",
      "Fireplaces        0.0279      0.009      3.015      0.003       0.010       0.046\n",
      "FireplaceQu       0.0053      0.008      0.647      0.518      -0.011       0.021\n",
      "GarageType       -0.0039      0.003     -1.287      0.198      -0.010       0.002\n",
      "GarageYrBlt      -0.0009      0.000     -2.742      0.006      -0.002      -0.000\n",
      "GarageFinish     -0.0077      0.007     -1.080      0.281      -0.022       0.006\n",
      "GarageCars        0.0684      0.013      5.205      0.000       0.043       0.094\n",
      "GarageArea      8.61e-06   4.59e-05      0.188      0.851   -8.14e-05    9.86e-05\n",
      "GarageQual        0.0309      0.023      1.321      0.187      -0.015       0.077\n",
      "GarageCond        0.0129      0.024      0.550      0.582      -0.033       0.059\n",
      "PavedDrive        0.0148      0.010      1.456      0.146      -0.005       0.035\n",
      "WoodDeckSF        0.0001   3.63e-05      2.824      0.005    3.13e-05       0.000\n",
      "OpenPorchSF    1.082e-05   7.08e-05      0.153      0.879      -0.000       0.000\n",
      "EnclosedPorch  7.714e-05   7.68e-05      1.004      0.316   -7.36e-05       0.000\n",
      "3SsnPorch         0.0003      0.000      1.814      0.070   -2.42e-05       0.001\n",
      "ScreenPorch       0.0003   7.75e-05      3.909      0.000       0.000       0.000\n",
      "PoolArea         -0.0003   9.86e-05     -3.024      0.003      -0.000      -0.000\n",
      "MiscVal       -4.311e-06   7.71e-06     -0.559      0.576   -1.94e-05    1.08e-05\n",
      "MoSold            0.0005      0.002      0.323      0.747      -0.003       0.004\n",
      "YrSold           -0.0065      0.003     -2.026      0.043      -0.013      -0.000\n",
      "SaleType         -0.0017      0.003     -0.621      0.534      -0.007       0.004\n",
      "SaleCondition     0.0204      0.004      4.895      0.000       0.012       0.029\n",
      "==============================================================================\n",
      "Omnibus:                      778.425   Durbin-Watson:                   2.023\n",
      "Prob(Omnibus):                  0.000   Jarque-Bera (JB):            37538.477\n",
      "Skew:                          -2.448   Prob(JB):                         0.00\n",
      "Kurtosis:                      30.338   Cond. No.                     1.33e+16\n",
      "==============================================================================\n",
      "\n",
      "Warnings:\n",
      "[1] Standard Errors assume that the covariance matrix of the errors is correctly specified.\n",
      "[2] The smallest eigenvalue is 1.55e-21. This might indicate that there are\n",
      "strong multicollinearity problems or that the design matrix is singular.\n"
     ]
    }
   ],
   "source": [
    "X = sm.add_constant(X_train)\n",
    "est = sm.OLS(y_train, X).fit()\n",
    "print(est.summary())"
   ]
  },
  {
   "cell_type": "markdown",
   "metadata": {},
   "source": [
    "From the both modelling process above, we could achieve a linear regression model with 0.887 R-squared score, which means our model is high in accuracy."
   ]
  }
 ],
 "metadata": {
  "kernelspec": {
   "display_name": "Py3",
   "language": "python",
   "name": "py3"
  },
  "language_info": {
   "codemirror_mode": {
    "name": "ipython",
    "version": 3
   },
   "file_extension": ".py",
   "mimetype": "text/x-python",
   "name": "python",
   "nbconvert_exporter": "python",
   "pygments_lexer": "ipython3",
   "version": "3.8.5"
  }
 },
 "nbformat": 4,
 "nbformat_minor": 4
}
